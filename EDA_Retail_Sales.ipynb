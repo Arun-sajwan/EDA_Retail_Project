{
 "cells": [
  {
   "cell_type": "markdown",
   "id": "33ef1f01",
   "metadata": {},
   "source": [
    "# Exploratory Data Analysis (EDA) on Retail Sales Data\n",
    "\n",
    "This project is part of the Oasis Infobyte Data Analytics internship.\n",
    "\n",
    "### Objective\n",
    "Perform exploratory data analysis (EDA) on a retail sales dataset to uncover patterns, trends, and insights that can help the retail business make informed decisions.\n",
    "\n",
    "### Steps Covered\n",
    "1. Data Loading & Cleaning\n",
    "2. Descriptive Statistics\n",
    "3. Time Series Analysis\n",
    "4. Customer & Product Analysis\n",
    "5. Visualization\n",
    "6. Recommendations\n"
   ]
  },
  {
   "cell_type": "code",
   "execution_count": null,
   "id": "812c6527",
   "metadata": {},
   "outputs": [],
   "source": [
    "\n",
    "import pandas as pd\n",
    "import numpy as np\n",
    "import matplotlib.pyplot as plt\n",
    "import seaborn as sns\n",
    "%matplotlib inline\n"
   ]
  },
  {
   "cell_type": "code",
   "execution_count": null,
   "id": "3006fdbb",
   "metadata": {},
   "outputs": [],
   "source": [
    "\n",
    "# Load dataset\n",
    "df = pd.read_csv(\"retail_sales_dataset.csv\")\n",
    "df.head()\n"
   ]
  },
  {
   "cell_type": "code",
   "execution_count": null,
   "id": "aadb0cf1",
   "metadata": {},
   "outputs": [],
   "source": [
    "\n",
    "# Strip spaces and convert date column\n",
    "for col in df.select_dtypes(include=['object']).columns:\n",
    "    df[col] = df[col].str.strip()\n",
    "\n",
    "# Detect and convert date column\n",
    "date_col = \"Date\"\n",
    "df[date_col] = pd.to_datetime(df[date_col], errors='coerce')\n",
    "df['Year'] = df[date_col].dt.year\n",
    "df['Month'] = df[date_col].dt.month\n",
    "df['YearMonth'] = df[date_col].dt.to_period('M')\n",
    "\n",
    "# Create Sales column if not present\n",
    "if 'Sales' not in df.columns:\n",
    "    df['Sales'] = df['Quantity'] * df['Price per Unit']\n",
    "\n",
    "df.info()\n"
   ]
  },
  {
   "cell_type": "code",
   "execution_count": null,
   "id": "46044c31",
   "metadata": {},
   "outputs": [],
   "source": [
    "\n",
    "# Summary statistics\n",
    "df.describe(include='all')\n"
   ]
  },
  {
   "cell_type": "code",
   "execution_count": null,
   "id": "1dc18b0a",
   "metadata": {},
   "outputs": [],
   "source": [
    "\n",
    "plt.figure(figsize=(8,5))\n",
    "plt.hist(df['Sales'].dropna(), bins=40)\n",
    "plt.title(\"Sales Distribution\")\n",
    "plt.xlabel(\"Sales\")\n",
    "plt.ylabel(\"Frequency\")\n",
    "plt.show()\n"
   ]
  },
  {
   "cell_type": "code",
   "execution_count": null,
   "id": "0e3b13fa",
   "metadata": {},
   "outputs": [],
   "source": [
    "\n",
    "monthly_sales = df.set_index(date_col)['Sales'].resample('M').sum()\n",
    "plt.figure(figsize=(12,6))\n",
    "plt.plot(monthly_sales.index, monthly_sales.values, marker='o')\n",
    "plt.title(\"Monthly Sales Over Time\")\n",
    "plt.xlabel(\"Date\")\n",
    "plt.ylabel(\"Total Sales\")\n",
    "plt.grid(True)\n",
    "plt.show()\n"
   ]
  },
  {
   "cell_type": "code",
   "execution_count": null,
   "id": "fed5d4a4",
   "metadata": {},
   "outputs": [],
   "source": [
    "\n",
    "top_products = df.groupby('Product Category')['Sales'].sum().sort_values(ascending=False).head(10)\n",
    "plt.figure(figsize=(10,6))\n",
    "sns.barplot(x=top_products.index, y=top_products.values)\n",
    "plt.title(\"Top 10 Products by Sales\")\n",
    "plt.xticks(rotation=45)\n",
    "plt.ylabel(\"Sales\")\n",
    "plt.show()\n",
    "top_products\n"
   ]
  },
  {
   "cell_type": "code",
   "execution_count": null,
   "id": "9aa91487",
   "metadata": {},
   "outputs": [],
   "source": [
    "\n",
    "plt.figure(figsize=(8,6))\n",
    "sns.heatmap(df.corr(numeric_only=True), annot=True, cmap=\"coolwarm\")\n",
    "plt.title(\"Correlation Heatmap\")\n",
    "plt.show()\n"
   ]
  },
  {
   "cell_type": "markdown",
   "id": "78e0c5ef",
   "metadata": {},
   "source": [
    "\n",
    "### Recommendations\n",
    "1. **Stock & Promotions**: Focus on top categories (Electronics, Clothing, Beauty).  \n",
    "2. **Seasonality Planning**: Plan inventory & marketing around high-sales months.  \n",
    "3. **Customer Targeting**: Segment high-value customers for loyalty programs.  \n",
    "4. **Data Quality**: Maintain consistent formats, handle missing values properly.  \n"
   ]
  }
 ],
 "metadata": {},
 "nbformat": 4,
 "nbformat_minor": 5
}
